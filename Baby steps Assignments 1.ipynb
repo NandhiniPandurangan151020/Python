{
 "cells": [
  {
   "cell_type": "code",
   "execution_count": 1,
   "id": "5939fcbf-e213-4384-925b-c83752fb57cb",
   "metadata": {},
   "outputs": [
    {
     "name": "stdout",
     "output_type": "stream",
     "text": [
      "Welcome to Assignment-1\n"
     ]
    }
   ],
   "source": [
    "print(\"Welcome to Assignment-1\")"
   ]
  },
  {
   "cell_type": "code",
   "execution_count": 15,
   "id": "76fae9c9-a592-4652-95c1-d70f91b6a54f",
   "metadata": {},
   "outputs": [
    {
     "name": "stdout",
     "output_type": "stream",
     "text": [
      "Num1= 10\n",
      "Num2= 30\n",
      "Add= 40\n"
     ]
    }
   ],
   "source": [
    "Num1=10\n",
    "print(\"Num1=\",Num1)\n",
    "Num2=30\n",
    "print(\"Num2=\",Num2)\n",
    "Add=Num1+Num2\n",
    "print(\"Add=\",Add)"
   ]
  },
  {
   "cell_type": "code",
   "execution_count": 21,
   "id": "82973115-df39-4ca5-b7df-0c6950a7fc70",
   "metadata": {},
   "outputs": [
    {
     "name": "stdin",
     "output_type": "stream",
     "text": [
      "Enter the BMI Index: 34\n"
     ]
    },
    {
     "name": "stdout",
     "output_type": "stream",
     "text": [
      "Overweight\n"
     ]
    }
   ],
   "source": [
    "Num= int(input(\"Enter the BMI Index:\"))\n",
    "if(Num<18.5):\n",
    "         print(\"Underweight\")\n",
    "elif(Num<24.9):\n",
    "         print(\"NormalWeight\")\n",
    "else:\n",
    "         print(\"Overweight\")\n",
    "\n",
    "\n",
    "   \n",
    "         "
   ]
  }
 ],
 "metadata": {
  "kernelspec": {
   "display_name": "Python 3 (ipykernel)",
   "language": "python",
   "name": "python3"
  },
  "language_info": {
   "codemirror_mode": {
    "name": "ipython",
    "version": 3
   },
   "file_extension": ".py",
   "mimetype": "text/x-python",
   "name": "python",
   "nbconvert_exporter": "python",
   "pygments_lexer": "ipython3",
   "version": "3.12.4"
  }
 },
 "nbformat": 4,
 "nbformat_minor": 5
}
