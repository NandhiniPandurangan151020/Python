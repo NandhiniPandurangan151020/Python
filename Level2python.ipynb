{
 "cells": [
  {
   "cell_type": "code",
   "execution_count": 1,
   "id": "51ed59f1-d463-4ce7-90bd-05b28b9295d4",
   "metadata": {},
   "outputs": [
    {
     "name": "stdout",
     "output_type": "stream",
     "text": [
      "0\n",
      "1\n",
      "2\n",
      "3\n",
      "4\n",
      "5\n",
      "6\n",
      "7\n",
      "8\n",
      "9\n",
      "10\n",
      "11\n",
      "12\n",
      "13\n",
      "14\n",
      "15\n",
      "16\n",
      "17\n",
      "18\n",
      "19\n"
     ]
    }
   ],
   "source": [
    "for num in range(0,20):\n",
    "    print(num)"
   ]
  },
  {
   "cell_type": "code",
   "execution_count": 3,
   "id": "49a69281-5eec-4195-8555-ac02ee98e417",
   "metadata": {},
   "outputs": [
    {
     "name": "stdout",
     "output_type": "stream",
     "text": [
      "10 11 12 13 14 15 16 17 18 19 "
     ]
    }
   ],
   "source": [
    "for num in range(10,20):\n",
    "    print(num,end=\" \")"
   ]
  },
  {
   "cell_type": "code",
   "execution_count": 5,
   "id": "e1131f46-3389-41d1-acef-8439b8e1cb3f",
   "metadata": {},
   "outputs": [
    {
     "name": "stdout",
     "output_type": "stream",
     "text": [
      "[10, 20, 14, 55, 43, 85, 76]\n",
      "Number of item in the List2:\n",
      "7\n"
     ]
    }
   ],
   "source": [
    "Lsit2=[10,20,14,55,43,85,76]\n",
    "print(Lsit2)\n",
    "print(\"Number of item in the List2:\")\n",
    "print(len(Lsit2))"
   ]
  },
  {
   "cell_type": "code",
   "execution_count": 15,
   "id": "d1eac9ed-9beb-439a-ac8a-7512e238258b",
   "metadata": {},
   "outputs": [
    {
     "name": "stdout",
     "output_type": "stream",
     "text": [
      "Artificial Intelligence\n",
      "A\n",
      "r\n",
      "t\n",
      "i\n",
      "f\n",
      "i\n",
      "c\n",
      "i\n",
      "a\n",
      "l\n",
      " \n",
      "I\n",
      "n\n",
      "t\n",
      "e\n",
      "l\n",
      "l\n",
      "i\n",
      "g\n",
      "e\n",
      "n\n",
      "c\n",
      "e\n"
     ]
    }
   ],
   "source": [
    "num= 'Artificial Intelligence'\n",
    "print(num)\n",
    "for i in num:\n",
    "    print(i)"
   ]
  },
  {
   "cell_type": "code",
   "execution_count": 63,
   "id": "5bdf9e84-8ace-470b-96fb-41c7730fbca3",
   "metadata": {},
   "outputs": [
    {
     "name": "stdout",
     "output_type": "stream",
     "text": [
      "--Your Name--\n",
      "--Your AGE--\n",
      "--Your Profession--\n"
     ]
    }
   ],
   "source": [
    "list1=(\"--Your Name--\",\"--Your AGE--\",\"--Your Profession--\")\n",
    "for Num in list1:\n",
    "    print(Num)"
   ]
  },
  {
   "cell_type": "code",
   "execution_count": 1,
   "id": "083254ec-770f-47e6-b9d3-4308885c5a17",
   "metadata": {},
   "outputs": [
    {
     "name": "stdout",
     "output_type": "stream",
     "text": [
      "(1, 'Welcome', 2, 'Hope')\n"
     ]
    }
   ],
   "source": [
    "thistuple=(1,\"Welcome\",2,\"Hope\")\n",
    "print(thistuple)"
   ]
  },
  {
   "cell_type": "code",
   "execution_count": 11,
   "id": "55049e7b-79c6-422b-b7a2-fa806ce6f154",
   "metadata": {},
   "outputs": [
    {
     "name": "stdout",
     "output_type": "stream",
     "text": [
      "((0, 1, 2, 3), ('Python', 'Hope'))\n"
     ]
    }
   ],
   "source": [
    "Tuple1=(0,1,2,3)\n",
    "Tuple2=((\"Python\",\"Hope\"))\n",
    "Tuple=(Tuple1,Tuple2)\n",
    "print(Tuple)"
   ]
  },
  {
   "cell_type": "code",
   "execution_count": 65,
   "id": "98b8ced2-ba8e-4157-a809-d05978c68719",
   "metadata": {},
   "outputs": [
    {
     "name": "stdout",
     "output_type": "stream",
     "text": [
      "(20, 10, 16, 19, 25, 1, 276, 188)\n",
      "19 is Odd\n",
      "25 is Odd\n",
      "1 is Odd\n"
     ]
    }
   ],
   "source": [
    "List1=(20,10,16,19,25,1,276,188)\n",
    "print(List1)\n",
    "for Num in List1:\n",
    "    if(Num%2!=0):\n",
    "           print(Num,\"is Odd\")"
   ]
  },
  {
   "cell_type": "code",
   "execution_count": 67,
   "id": "1070b6af-90f6-4a9f-8bfc-3a7bb1ff536a",
   "metadata": {},
   "outputs": [
    {
     "name": "stdout",
     "output_type": "stream",
     "text": [
      "(20, 10, 16, 19, 25, 1, 276, 188)\n",
      "20 is Even\n",
      "10 is Even\n",
      "16 is Even\n",
      "276 is Even\n",
      "188 is Even\n"
     ]
    }
   ],
   "source": [
    "List1=(20,10,16,19,25,1,276,188)\n",
    "print(List1)\n",
    "for Num in List1:\n",
    "    if(Num%2==0):\n",
    "           print(Num,\"is Even\")"
   ]
  }
 ],
 "metadata": {
  "kernelspec": {
   "display_name": "Python 3 (ipykernel)",
   "language": "python",
   "name": "python3"
  },
  "language_info": {
   "codemirror_mode": {
    "name": "ipython",
    "version": 3
   },
   "file_extension": ".py",
   "mimetype": "text/x-python",
   "name": "python",
   "nbconvert_exporter": "python",
   "pygments_lexer": "ipython3",
   "version": "3.12.4"
  }
 },
 "nbformat": 4,
 "nbformat_minor": 5
}
