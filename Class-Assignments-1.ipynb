{
 "cells": [
  {
   "cell_type": "code",
   "execution_count": 41,
   "id": "ab2ecb9a-610a-4afc-8442-1eedd27a7567",
   "metadata": {},
   "outputs": [],
   "source": [
    "class SubfieldsInAI():\n",
    "    def Subfields():\n",
    "        list= [\"Machine Learning\",\"Neural Network\",\"Vision\",\"Robotics\",\"Speech Processing\",\"Natural Language Processing\"]\n",
    "        print(\"Subfields in AI are:\")\n",
    "        for temp in list:\n",
    "            print(temp) "
   ]
  },
  {
   "cell_type": "code",
   "execution_count": 43,
   "id": "e0adbb14-bdc9-47de-9882-f009fd6c25af",
   "metadata": {},
   "outputs": [
    {
     "name": "stdout",
     "output_type": "stream",
     "text": [
      "Subfields in AI are:\n",
      "Machine Learning\n",
      "Neural Network\n",
      "Vision\n",
      "Robotics\n",
      "Speech Processing\n",
      "Natural Language Processing\n"
     ]
    }
   ],
   "source": [
    "SubfieldsInAI.Subfields()"
   ]
  },
  {
   "cell_type": "code",
   "execution_count": 60,
   "id": "3c038120-6113-4507-a04f-9b6fff94601a",
   "metadata": {},
   "outputs": [],
   "source": [
    "class OddEven():\n",
    "    def OddEven():\n",
    "         num=int(input(\"Enter a number:\"))\n",
    "         if(num%2==0):\n",
    "                print(num,\"is Even Number\")\n",
    "                num1=num,\"is Even Number\"\n",
    "         else:\n",
    "              print(num,\"is Odd Number\")\n",
    "              num1=num,\"is Odd Number\"\n",
    "                  \n",
    "                   \n",
    "                   "
   ]
  },
  {
   "cell_type": "code",
   "execution_count": 62,
   "id": "9f35b872-1dfe-4175-b34d-af1d355f3c2d",
   "metadata": {},
   "outputs": [
    {
     "name": "stdin",
     "output_type": "stream",
     "text": [
      "Enter a number: 23\n"
     ]
    },
    {
     "name": "stdout",
     "output_type": "stream",
     "text": [
      "23 is Odd Number\n"
     ]
    }
   ],
   "source": [
    "OddEven.OddEven()"
   ]
  },
  {
   "cell_type": "code",
   "execution_count": 77,
   "id": "f5bb5dd9-7b28-4523-8993-71f734ef4707",
   "metadata": {},
   "outputs": [],
   "source": [
    "class EligibilityForMarriage():\n",
    "    def Eligible():\n",
    "        gender = input(\"Your gender: \")\n",
    "        age = int(input(\"Your age: \"))\n",
    "        if (gender == 'Male'):\n",
    "            if (age >= 21):\n",
    "                print(\"Eligible\")\n",
    "                message = 'Eligible'\n",
    "            else:\n",
    "                print(\"Not Eligible\")\n",
    "                message = 'Not Eligible'\n",
    "        elif (gender == 'Female'):\n",
    "            if (age >= 18):\n",
    "                print(\"Eligible\")\n",
    "                message = 'Eligible'\n",
    "            else:\n",
    "                print(\"Not Eligible\")\n",
    "                message = 'Not Eligible'\n",
    "  "
   ]
  },
  {
   "cell_type": "code",
   "execution_count": 87,
   "id": "ac302c90-873f-470e-9157-a3ad6153df17",
   "metadata": {},
   "outputs": [
    {
     "name": "stdin",
     "output_type": "stream",
     "text": [
      "Your gender:  Male\n",
      "Your age:  20\n"
     ]
    },
    {
     "name": "stdout",
     "output_type": "stream",
     "text": [
      "Not Eligible\n"
     ]
    }
   ],
   "source": [
    "EligibilityForMarriage.Eligible()"
   ]
  },
  {
   "cell_type": "code",
   "execution_count": 89,
   "id": "3c15a702-4b3f-4c67-b7f6-24594c3a225a",
   "metadata": {},
   "outputs": [],
   "source": [
    "class FindPercent():\n",
    "    def percentage():\n",
    "        n1 = int(input(\"subject1: \"))\n",
    "        n2 = int(input(\"subject2: \"))\n",
    "        n3 = int(input(\"subject3: \"))\n",
    "        n4 = int(input(\"subject4: \"))\n",
    "        n5 = int(input(\"subject5: \"))\n",
    "        \n",
    "        total = n1 + n2 + n3 + n4 + n5\n",
    "        print(\"Total : \", total)\n",
    "        \n",
    "        percentage = total / 5\n",
    "        print(\"Percentage : {:.9f}\".format(percentage))"
   ]
  },
  {
   "cell_type": "code",
   "execution_count": 93,
   "id": "45439c0a-2f25-4a1b-98e2-2693987173a6",
   "metadata": {},
   "outputs": [
    {
     "name": "stdin",
     "output_type": "stream",
     "text": [
      "subject1:  94\n",
      "subject2:  95\n",
      "subject3:  97\n",
      "subject4:  99\n",
      "subject5:  82\n"
     ]
    },
    {
     "name": "stdout",
     "output_type": "stream",
     "text": [
      "Total :  467\n",
      "Percentage : 93.400000000\n"
     ]
    }
   ],
   "source": [
    "FindPercent.percentage()"
   ]
  },
  {
   "cell_type": "code",
   "execution_count": 101,
   "id": "30d934c4-809f-4b08-b58e-336c27030bdd",
   "metadata": {},
   "outputs": [],
   "source": [
    "class triangle():\n",
    "    def triangle():\n",
    "        n1 = int(input(\"Height: \"))\n",
    "        n2 = int(input(\"Breadth: \"))\n",
    "        n=(n1*n2)/2\n",
    "        print(\"Area Forumula: (Height*Breadth)/2\")\n",
    "        print(\"Area of Triangle\",n)\n",
    "        N1 = int(input(\"Height1: \"))\n",
    "        N2 = int(input(\"Height2: \"))\n",
    "        N3 = int(input(\"Breadth: \"))\n",
    "        N=N1+N2+N3\n",
    "        print(\"Perimeter Forumula: Height1+Height2+Breadth\")\n",
    "        print(\"Perimeter of Triangle\",N)\n",
    "    "
   ]
  },
  {
   "cell_type": "code",
   "execution_count": 103,
   "id": "245cb830-6a36-49d4-a2d5-d0d92cd3d21b",
   "metadata": {},
   "outputs": [
    {
     "name": "stdin",
     "output_type": "stream",
     "text": [
      "Height:  32\n",
      "Breadth:  34\n"
     ]
    },
    {
     "name": "stdout",
     "output_type": "stream",
     "text": [
      "Area Forumula: (Height*Breadth)/2\n",
      "Area of Triangle 544.0\n"
     ]
    },
    {
     "name": "stdin",
     "output_type": "stream",
     "text": [
      "Height1:  2\n",
      "Height2:  4\n",
      "Breadth:  4\n"
     ]
    },
    {
     "name": "stdout",
     "output_type": "stream",
     "text": [
      "Perimeter Forumula: Height1+Height2+Breadth\n",
      "Perimeter of Triangle 10\n"
     ]
    }
   ],
   "source": [
    "triangle.triangle()"
   ]
  }
 ],
 "metadata": {
  "kernelspec": {
   "display_name": "Python 3 (ipykernel)",
   "language": "python",
   "name": "python3"
  },
  "language_info": {
   "codemirror_mode": {
    "name": "ipython",
    "version": 3
   },
   "file_extension": ".py",
   "mimetype": "text/x-python",
   "name": "python",
   "nbconvert_exporter": "python",
   "pygments_lexer": "ipython3",
   "version": "3.12.4"
  }
 },
 "nbformat": 4,
 "nbformat_minor": 5
}
