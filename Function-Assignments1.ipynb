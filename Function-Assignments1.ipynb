{
 "cells": [
  {
   "cell_type": "code",
   "execution_count": 143,
   "id": "647f381b-7cf7-4e66-a855-18a46aa5f9de",
   "metadata": {},
   "outputs": [],
   "source": [
    "def subfields():\n",
    "    list= [\"Machine Learning\",\"Neural Network\",\"Vision\",\"Robotics\",\"Speech Processing\",\"Natural Language Processing\"]\n",
    "    print(\"Subfields in AI are:\")\n",
    "    for temp in list:\n",
    "        print(temp)\n",
    "    return subfields\n"
   ]
  },
  {
   "cell_type": "code",
   "execution_count": 145,
   "id": "697d3734-dd14-4f36-8012-0dc9ec4b31eb",
   "metadata": {},
   "outputs": [
    {
     "name": "stdout",
     "output_type": "stream",
     "text": [
      "Subfields in AI are:\n",
      "Machine Learning\n",
      "Neural Network\n",
      "Vision\n",
      "Robotics\n",
      "Speech Processing\n",
      "Natural Language Processing\n"
     ]
    }
   ],
   "source": [
    "tune=subfields()"
   ]
  },
  {
   "cell_type": "code",
   "execution_count": 139,
   "id": "7da2a746-f701-49a3-87d7-57410c4cd89f",
   "metadata": {},
   "outputs": [],
   "source": [
    "def OddEven():\n",
    "        num=int(input(\"Enter a number:\"))\n",
    "        if(num%2==0):\n",
    "            print(num,\"is Even Number\")\n",
    "            num1=num,\"is Even Number\"\n",
    "        else:\n",
    "            print(num,\"is Odd Number\")\n",
    "            num1=num,\"is Odd Number\"\n",
    "        return num1\n",
    "            "
   ]
  },
  {
   "cell_type": "code",
   "execution_count": 3,
   "id": "01c03d57-063e-4109-b276-0270bf8fc87f",
   "metadata": {},
   "outputs": [
    {
     "name": "stdin",
     "output_type": "stream",
     "text": [
      "Enter a number: 52452\n"
     ]
    },
    {
     "name": "stdout",
     "output_type": "stream",
     "text": [
      "52452 is Even Number\n"
     ]
    }
   ],
   "source": [
    "Num=OddEven()"
   ]
  },
  {
   "cell_type": "code",
   "execution_count": 85,
   "id": "3832ee88-d620-45dc-b5f3-fe1ecdf692c3",
   "metadata": {},
   "outputs": [],
   "source": [
    "def Eligible():\n",
    "    gender = input(\"Your gender: \")\n",
    "    age = int(input(\"Your age: \"))\n",
    "    if (gender == 'Male'):\n",
    "        if (age >= 21):\n",
    "            print(\"Eligible\")\n",
    "            message = 'Eligible'\n",
    "        else:\n",
    "            print(\"Not Eligible\")\n",
    "            message = 'Not Eligible'\n",
    "    elif (gender == 'Female'):\n",
    "        if (age >= 18):\n",
    "            print(\"Eligible\")\n",
    "            message = 'Eligible'\n",
    "        else:\n",
    "            print(\"Not Eligible\")\n",
    "            message = 'Not Eligible'\n",
    "        \n",
    "    return message\n",
    "                "
   ]
  },
  {
   "cell_type": "code",
   "execution_count": 101,
   "id": "d41e2f01-274b-4ee5-8102-680c3cb01b2d",
   "metadata": {},
   "outputs": [
    {
     "name": "stdin",
     "output_type": "stream",
     "text": [
      "Your gender:  Male\n",
      "Your age:  20\n"
     ]
    },
    {
     "name": "stdout",
     "output_type": "stream",
     "text": [
      "Not Eligible\n"
     ]
    }
   ],
   "source": [
    "message1 = Eligible()"
   ]
  },
  {
   "cell_type": "code",
   "execution_count": 119,
   "id": "ca337777-200a-41b7-9d6d-469486fc8cac",
   "metadata": {},
   "outputs": [],
   "source": [
    "def percentage():\n",
    "    n1 = int(input(\"subject1: \"))\n",
    "    n2 = int(input(\"subject2: \"))\n",
    "    n3 = int(input(\"subject3: \"))\n",
    "    n4 = int(input(\"subject4: \"))\n",
    "    n5 = int(input(\"subject5: \"))\n",
    "    \n",
    "    total = n1 + n2 + n3 + n4 + n5\n",
    "    print(\"Total : \", total)\n",
    "    \n",
    "    percentage = total / 5\n",
    "    print(\"Percentage : {:.9f}\".format(percentage))\n",
    "    \n",
    "    return percentage"
   ]
  },
  {
   "cell_type": "code",
   "execution_count": 121,
   "id": "85deb7e7-de71-4415-a26e-0712bd3ad8c4",
   "metadata": {},
   "outputs": [
    {
     "name": "stdin",
     "output_type": "stream",
     "text": [
      "subject1:  96\n",
      "subject2:  97\n",
      "subject3:  98\n",
      "subject4:  99\n",
      "subject5:  93\n"
     ]
    },
    {
     "name": "stdout",
     "output_type": "stream",
     "text": [
      "Total :  483\n",
      "Percentage : 96.600000000\n"
     ]
    }
   ],
   "source": [
    "num= percentage()"
   ]
  },
  {
   "cell_type": "code",
   "execution_count": 123,
   "id": "35b97c6e-2eea-4665-a8f9-558a8f6f73bd",
   "metadata": {},
   "outputs": [],
   "source": [
    "def Triangle():\n",
    "    n1 = int(input(\"Height: \"))\n",
    "    n2 = int(input(\"Breadth: \"))\n",
    "    n=(n1*n2)/2\n",
    "    print(\"Area Forumula: (Height*Breadth)/2\")\n",
    "    print(\"Area of Triangle\",n)\n",
    "    N1 = int(input(\"Height1: \"))\n",
    "    N2 = int(input(\"Height2: \"))\n",
    "    N3 = int(input(\"Breadth: \"))\n",
    "    N=N1+N2+N3\n",
    "    print(\"Perimeter Forumula: Height1+Height2+Breadth\")\n",
    "    print(\"Perimeter of Triangle\",N)\n",
    "    return Triangle"
   ]
  },
  {
   "cell_type": "code",
   "execution_count": 127,
   "id": "3c1f3ac7-257c-4d4b-ae0d-1c7b1744389c",
   "metadata": {},
   "outputs": [
    {
     "name": "stdin",
     "output_type": "stream",
     "text": [
      "Height:  32\n",
      "Breadth:  34\n"
     ]
    },
    {
     "name": "stdout",
     "output_type": "stream",
     "text": [
      "Area Forumula: (Height*Breadth)/2\n",
      "Area of Triangle 544.0\n"
     ]
    },
    {
     "name": "stdin",
     "output_type": "stream",
     "text": [
      "Height1:  2\n",
      "Height2:  4\n",
      "Breadth:  4\n"
     ]
    },
    {
     "name": "stdout",
     "output_type": "stream",
     "text": [
      "Perimeter Forumula: (Height1+Height2+Breadth)\n",
      "Perimeter of Triangle 10\n"
     ]
    }
   ],
   "source": [
    "t=Triangle()"
   ]
  }
 ],
 "metadata": {
  "kernelspec": {
   "display_name": "Python 3 (ipykernel)",
   "language": "python",
   "name": "python3"
  },
  "language_info": {
   "codemirror_mode": {
    "name": "ipython",
    "version": 3
   },
   "file_extension": ".py",
   "mimetype": "text/x-python",
   "name": "python",
   "nbconvert_exporter": "python",
   "pygments_lexer": "ipython3",
   "version": "3.12.4"
  }
 },
 "nbformat": 4,
 "nbformat_minor": 5
}
