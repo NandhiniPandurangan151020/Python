{
 "cells": [
  {
   "cell_type": "code",
   "execution_count": 5,
   "id": "d5ad17c6-e0ee-46d3-b0d9-ebd145c8b2b2",
   "metadata": {},
   "outputs": [
    {
     "name": "stdin",
     "output_type": "stream",
     "text": [
      "Value: 10\n"
     ]
    },
    {
     "name": "stdout",
     "output_type": "stream",
     "text": [
      "Correct\n"
     ]
    }
   ],
   "source": [
    "i=int(input(\"Value:\"))\n",
    "if(i==10):\n",
    "    print(\"Correct\")"
   ]
  },
  {
   "cell_type": "code",
   "execution_count": 11,
   "id": "0bdfdc61-98ba-42c5-83cf-e2891178c7f4",
   "metadata": {},
   "outputs": [
    {
     "name": "stdin",
     "output_type": "stream",
     "text": [
      "Enter the password: Hope@123\n"
     ]
    },
    {
     "name": "stdout",
     "output_type": "stream",
     "text": [
      "Your Password is correct\n"
     ]
    }
   ],
   "source": [
    "Num1=input(\"Enter the password:\")\n",
    "Num=\"Hope@123\"\n",
    "if(Num1==Num):\n",
    "    print(\"Your Password is correct\")"
   ]
  },
  {
   "cell_type": "code",
   "execution_count": 21,
   "id": "4ad97580-5793-45d4-875d-ec0a9578457b",
   "metadata": {},
   "outputs": [
    {
     "name": "stdin",
     "output_type": "stream",
     "text": [
      "Enter AGE: 23\n"
     ]
    },
    {
     "name": "stdout",
     "output_type": "stream",
     "text": [
      "Adult\n"
     ]
    }
   ],
   "source": [
    "Num=int(input(\"Enter AGE:\"))\n",
    "if(Num<18):\n",
    "    print(\"Children\")\n",
    "elif(Num<35):\n",
    "    print(\"Adult\")\n",
    "elif(Num<55):\n",
    "    print(\"Citizen\")\n",
    "else:\n",
    "    print(\"Senior Citizen\")"
   ]
  },
  {
   "cell_type": "code",
   "execution_count": 27,
   "id": "b2bab9d3-d3b4-47a0-b743-ce205810fd97",
   "metadata": {},
   "outputs": [
    {
     "name": "stdin",
     "output_type": "stream",
     "text": [
      "Enter Number: 2\n"
     ]
    },
    {
     "name": "stdout",
     "output_type": "stream",
     "text": [
      "Positive\n"
     ]
    }
   ],
   "source": [
    "Num=int(input(\"Enter Number:\"))\n",
    "if(Num>0):\n",
    "    print(\"Positive\")\n",
    "else:\n",
    "    print(\"Negative\")"
   ]
  },
  {
   "cell_type": "code",
   "execution_count": 31,
   "id": "fafa7346-4388-4be3-b039-fc52749bd537",
   "metadata": {},
   "outputs": [
    {
     "name": "stdin",
     "output_type": "stream",
     "text": [
      "Enter a Number to check: 22\n"
     ]
    },
    {
     "name": "stdout",
     "output_type": "stream",
     "text": [
      "No it is not Divisible by 5\n"
     ]
    }
   ],
   "source": [
    "Num=int(input(\"Enter a Number to check:\"))\n",
    "if(Num/5==0):\n",
    "    print(\"Yes it is Divisible by 5\")\n",
    "else:\n",
    "    print(\"No it is not Divisible by 5\")"
   ]
  }
 ],
 "metadata": {
  "kernelspec": {
   "display_name": "Python 3 (ipykernel)",
   "language": "python",
   "name": "python3"
  },
  "language_info": {
   "codemirror_mode": {
    "name": "ipython",
    "version": 3
   },
   "file_extension": ".py",
   "mimetype": "text/x-python",
   "name": "python",
   "nbconvert_exporter": "python",
   "pygments_lexer": "ipython3",
   "version": "3.12.4"
  }
 },
 "nbformat": 4,
 "nbformat_minor": 5
}
