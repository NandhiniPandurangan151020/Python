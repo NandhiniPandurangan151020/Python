{
 "cells": [
  {
   "cell_type": "code",
   "execution_count": 1,
   "id": "8968544b-cc55-4457-a1cf-f4468e1621c6",
   "metadata": {},
   "outputs": [
    {
     "name": "stdout",
     "output_type": "stream",
     "text": [
      "HOPE AI\n"
     ]
    }
   ],
   "source": [
    "print(\"HOPE AI\")"
   ]
  },
  {
   "cell_type": "code",
   "execution_count": 15,
   "id": "903086d4-cccd-4fd4-bdc9-63c76e98610d",
   "metadata": {},
   "outputs": [
    {
     "name": "stdin",
     "output_type": "stream",
     "text": [
      "Enter your Institute Name? : HOPE AI\n"
     ]
    }
   ],
   "source": [
    "NUM=input(\"Enter your Institute Name? :\")\n"
   ]
  },
  {
   "cell_type": "markdown",
   "id": "b13bbaff-f929-48f2-adee-2fb3afb9b348",
   "metadata": {},
   "source": [
    "Num1=input(\"Enter your Name:\")\n",
    "Num2=input(\"Enter your Age:\")\n",
    "Num3=input(\"Enter your School name:\")\n",
    "Num4=input(\"Enter your Degree:\")"
   ]
  },
  {
   "cell_type": "code",
   "execution_count": 19,
   "id": "6ed489b0-cfe6-41ad-a761-1ec5ddd83f38",
   "metadata": {},
   "outputs": [
    {
     "name": "stdout",
     "output_type": "stream",
     "text": [
      "a= 43\n",
      "b= 34\n",
      "add= 77\n"
     ]
    }
   ],
   "source": [
    "a=43;\n",
    "b=34;\n",
    "add=a+b;\n",
    "print(\"a=\",a)\n",
    "print(\"b=\",b)\n",
    "print(\"add=\",add)"
   ]
  },
  {
   "cell_type": "code",
   "execution_count": 21,
   "id": "503b4793-f677-41c4-bc18-07c8a0d442d2",
   "metadata": {},
   "outputs": [
    {
     "name": "stdout",
     "output_type": "stream",
     "text": [
      "a= 43\n",
      "b= 34\n",
      "sub= 9\n"
     ]
    }
   ],
   "source": [
    "a=43;\n",
    "b=34;\n",
    "sub=a-b;\n",
    "print(\"a=\",a)\n",
    "print(\"b=\",b)\n",
    "print(\"sub=\",sub)"
   ]
  },
  {
   "cell_type": "code",
   "execution_count": 25,
   "id": "706e312d-9755-4645-a1e1-c7dd88821970",
   "metadata": {},
   "outputs": [
    {
     "name": "stdout",
     "output_type": "stream",
     "text": [
      "a= 63\n",
      "b= 97\n",
      "Mul= 6111\n"
     ]
    }
   ],
   "source": [
    "a=63;\n",
    "b=97;\n",
    "Mul=a*b;\n",
    "print(\"a=\",a)\n",
    "print(\"b=\",b)\n",
    "print(\"Mul=\",Mul)"
   ]
  },
  {
   "cell_type": "code",
   "execution_count": 29,
   "id": "8b03fec9-5147-45be-a320-3f3b2917b035",
   "metadata": {},
   "outputs": [
    {
     "name": "stdout",
     "output_type": "stream",
     "text": [
      "a= 76\n",
      "b= 31\n",
      "Float Div= 2.4516129032258065\n"
     ]
    }
   ],
   "source": [
    "a=76;\n",
    "b=31;\n",
    "c =a/b;\n",
    "print(\"a=\",a)\n",
    "print(\"b=\",b)\n",
    "print(\"Float Div=\",c)"
   ]
  },
  {
   "cell_type": "code",
   "execution_count": 55,
   "id": "597a43c6-7124-45ea-8783-55107302b8ab",
   "metadata": {},
   "outputs": [
    {
     "name": "stdout",
     "output_type": "stream",
     "text": [
      "a= 76\n",
      "b= 31\n",
      "Floor Div= 2\n"
     ]
    }
   ],
   "source": [
    "a=76;\n",
    "b=31;\n",
    "c =a/b;\n",
    "print(\"a=\",a)\n",
    "print(\"b=\",b)\n",
    "print(\"Floor Div=\",int(c))"
   ]
  },
  {
   "cell_type": "code",
   "execution_count": 57,
   "id": "83128016-d3f7-4085-95e9-02df00d2e844",
   "metadata": {},
   "outputs": [
    {
     "name": "stdout",
     "output_type": "stream",
     "text": [
      "a= 76\n",
      "b= 31\n",
      "Modulo= 14\n"
     ]
    }
   ],
   "source": [
    "a=76;\n",
    "b=31;\n",
    "c =a%b;\n",
    "print(\"a=\",a)\n",
    "print(\"b=\",b)\n",
    "print(\"Modulo=\",c)"
   ]
  },
  {
   "cell_type": "code",
   "execution_count": 67,
   "id": "707a4c2f-223c-4a68-b76a-2fb71b1b2c14",
   "metadata": {},
   "outputs": [
    {
     "name": "stdout",
     "output_type": "stream",
     "text": [
      "a= 4\n",
      "b= 8\n",
      "power= 65536\n"
     ]
    }
   ],
   "source": [
    "a=4;\n",
    "b=8;\n",
    "c=a**b\n",
    "print(\"a=\",a)\n",
    "print(\"b=\",b)\n",
    "print(\"power=\",c)"
   ]
  }
 ],
 "metadata": {
  "kernelspec": {
   "display_name": "Python 3 (ipykernel)",
   "language": "python",
   "name": "python3"
  },
  "language_info": {
   "codemirror_mode": {
    "name": "ipython",
    "version": 3
   },
   "file_extension": ".py",
   "mimetype": "text/x-python",
   "name": "python",
   "nbconvert_exporter": "python",
   "pygments_lexer": "ipython3",
   "version": "3.12.4"
  }
 },
 "nbformat": 4,
 "nbformat_minor": 5
}
